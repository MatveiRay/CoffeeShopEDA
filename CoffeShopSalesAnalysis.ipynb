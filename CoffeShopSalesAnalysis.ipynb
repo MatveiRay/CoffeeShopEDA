{
 "cells": [
  {
   "cell_type": "code",
   "execution_count": 80,
   "id": "d03527a4-551b-44da-8ba8-225577136ab5",
   "metadata": {},
   "outputs": [],
   "source": [
    "import matplotlib.pyplot as plt\n",
    "import pandas as pd\n",
    "df = pd.read_excel(\"C:\\\\Users\\\\Matvei\\\\Desktop\\\\CoffeeProject\\\\Coffee Shop Sales.xlsx\")\n",
    "df['hour'] = pd.to_datetime(df['transaction_time'], format='%H:%M:%S').dt.hour"
   ]
  },
  {
   "cell_type": "code",
   "execution_count": 47,
   "id": "dbfa12c6-b3fb-4f96-a1ef-80976dd42827",
   "metadata": {},
   "outputs": [
    {
     "data": {
      "text/html": [
       "<div>\n",
       "<style scoped>\n",
       "    .dataframe tbody tr th:only-of-type {\n",
       "        vertical-align: middle;\n",
       "    }\n",
       "\n",
       "    .dataframe tbody tr th {\n",
       "        vertical-align: top;\n",
       "    }\n",
       "\n",
       "    .dataframe thead th {\n",
       "        text-align: right;\n",
       "    }\n",
       "</style>\n",
       "<table border=\"1\" class=\"dataframe\">\n",
       "  <thead>\n",
       "    <tr style=\"text-align: right;\">\n",
       "      <th></th>\n",
       "      <th>transaction_id</th>\n",
       "      <th>transaction_date</th>\n",
       "      <th>transaction_time</th>\n",
       "      <th>transaction_qty</th>\n",
       "      <th>store_id</th>\n",
       "      <th>store_location</th>\n",
       "      <th>product_id</th>\n",
       "      <th>unit_price</th>\n",
       "      <th>product_category</th>\n",
       "      <th>product_type</th>\n",
       "      <th>product_detail</th>\n",
       "      <th>hour</th>\n",
       "    </tr>\n",
       "  </thead>\n",
       "  <tbody>\n",
       "    <tr>\n",
       "      <th>0</th>\n",
       "      <td>1</td>\n",
       "      <td>2023-01-01</td>\n",
       "      <td>07:06:11</td>\n",
       "      <td>2</td>\n",
       "      <td>5</td>\n",
       "      <td>Lower Manhattan</td>\n",
       "      <td>32</td>\n",
       "      <td>3.0</td>\n",
       "      <td>Coffee</td>\n",
       "      <td>Gourmet brewed coffee</td>\n",
       "      <td>Ethiopia Rg</td>\n",
       "      <td>7</td>\n",
       "    </tr>\n",
       "    <tr>\n",
       "      <th>1</th>\n",
       "      <td>2</td>\n",
       "      <td>2023-01-01</td>\n",
       "      <td>07:08:56</td>\n",
       "      <td>2</td>\n",
       "      <td>5</td>\n",
       "      <td>Lower Manhattan</td>\n",
       "      <td>57</td>\n",
       "      <td>3.1</td>\n",
       "      <td>Tea</td>\n",
       "      <td>Brewed Chai tea</td>\n",
       "      <td>Spicy Eye Opener Chai Lg</td>\n",
       "      <td>7</td>\n",
       "    </tr>\n",
       "    <tr>\n",
       "      <th>2</th>\n",
       "      <td>3</td>\n",
       "      <td>2023-01-01</td>\n",
       "      <td>07:14:04</td>\n",
       "      <td>2</td>\n",
       "      <td>5</td>\n",
       "      <td>Lower Manhattan</td>\n",
       "      <td>59</td>\n",
       "      <td>4.5</td>\n",
       "      <td>Drinking Chocolate</td>\n",
       "      <td>Hot chocolate</td>\n",
       "      <td>Dark chocolate Lg</td>\n",
       "      <td>7</td>\n",
       "    </tr>\n",
       "    <tr>\n",
       "      <th>3</th>\n",
       "      <td>4</td>\n",
       "      <td>2023-01-01</td>\n",
       "      <td>07:20:24</td>\n",
       "      <td>1</td>\n",
       "      <td>5</td>\n",
       "      <td>Lower Manhattan</td>\n",
       "      <td>22</td>\n",
       "      <td>2.0</td>\n",
       "      <td>Coffee</td>\n",
       "      <td>Drip coffee</td>\n",
       "      <td>Our Old Time Diner Blend Sm</td>\n",
       "      <td>7</td>\n",
       "    </tr>\n",
       "    <tr>\n",
       "      <th>4</th>\n",
       "      <td>5</td>\n",
       "      <td>2023-01-01</td>\n",
       "      <td>07:22:41</td>\n",
       "      <td>2</td>\n",
       "      <td>5</td>\n",
       "      <td>Lower Manhattan</td>\n",
       "      <td>57</td>\n",
       "      <td>3.1</td>\n",
       "      <td>Tea</td>\n",
       "      <td>Brewed Chai tea</td>\n",
       "      <td>Spicy Eye Opener Chai Lg</td>\n",
       "      <td>7</td>\n",
       "    </tr>\n",
       "  </tbody>\n",
       "</table>\n",
       "</div>"
      ],
      "text/plain": [
       "   transaction_id transaction_date transaction_time  transaction_qty  \\\n",
       "0               1       2023-01-01         07:06:11                2   \n",
       "1               2       2023-01-01         07:08:56                2   \n",
       "2               3       2023-01-01         07:14:04                2   \n",
       "3               4       2023-01-01         07:20:24                1   \n",
       "4               5       2023-01-01         07:22:41                2   \n",
       "\n",
       "   store_id   store_location  product_id  unit_price    product_category  \\\n",
       "0         5  Lower Manhattan          32         3.0              Coffee   \n",
       "1         5  Lower Manhattan          57         3.1                 Tea   \n",
       "2         5  Lower Manhattan          59         4.5  Drinking Chocolate   \n",
       "3         5  Lower Manhattan          22         2.0              Coffee   \n",
       "4         5  Lower Manhattan          57         3.1                 Tea   \n",
       "\n",
       "            product_type               product_detail  hour  \n",
       "0  Gourmet brewed coffee                  Ethiopia Rg     7  \n",
       "1        Brewed Chai tea     Spicy Eye Opener Chai Lg     7  \n",
       "2          Hot chocolate            Dark chocolate Lg     7  \n",
       "3            Drip coffee  Our Old Time Diner Blend Sm     7  \n",
       "4        Brewed Chai tea     Spicy Eye Opener Chai Lg     7  "
      ]
     },
     "execution_count": 47,
     "metadata": {},
     "output_type": "execute_result"
    }
   ],
   "source": [
    "df.head()"
   ]
  },
  {
   "cell_type": "code",
   "execution_count": 48,
   "id": "5a81dbdb-eeb4-4289-87b9-3023520e216f",
   "metadata": {},
   "outputs": [
    {
     "data": {
      "text/plain": [
       "transaction_id      0\n",
       "transaction_date    0\n",
       "transaction_time    0\n",
       "transaction_qty     0\n",
       "store_id            0\n",
       "store_location      0\n",
       "product_id          0\n",
       "unit_price          0\n",
       "product_category    0\n",
       "product_type        0\n",
       "product_detail      0\n",
       "hour                0\n",
       "dtype: int64"
      ]
     },
     "execution_count": 48,
     "metadata": {},
     "output_type": "execute_result"
    }
   ],
   "source": [
    "df.isnull().sum()"
   ]
  },
  {
   "cell_type": "code",
   "execution_count": 61,
   "id": "539b9b5e-b16b-4453-815c-fdbe9280ac25",
   "metadata": {},
   "outputs": [
    {
     "data": {
      "text/plain": [
       "0"
      ]
     },
     "execution_count": 61,
     "metadata": {},
     "output_type": "execute_result"
    }
   ],
   "source": [
    "df.duplicated().sum()"
   ]
  },
  {
   "cell_type": "code",
   "execution_count": 49,
   "id": "00644a2a-94be-409b-9021-2794c493283b",
   "metadata": {},
   "outputs": [
    {
     "data": {
      "text/html": [
       "<div>\n",
       "<style scoped>\n",
       "    .dataframe tbody tr th:only-of-type {\n",
       "        vertical-align: middle;\n",
       "    }\n",
       "\n",
       "    .dataframe tbody tr th {\n",
       "        vertical-align: top;\n",
       "    }\n",
       "\n",
       "    .dataframe thead th {\n",
       "        text-align: right;\n",
       "    }\n",
       "</style>\n",
       "<table border=\"1\" class=\"dataframe\">\n",
       "  <thead>\n",
       "    <tr style=\"text-align: right;\">\n",
       "      <th></th>\n",
       "      <th>transaction_qty</th>\n",
       "      <th>unit_price</th>\n",
       "    </tr>\n",
       "  </thead>\n",
       "  <tbody>\n",
       "    <tr>\n",
       "      <th>count</th>\n",
       "      <td>149116.000000</td>\n",
       "      <td>149116.000000</td>\n",
       "    </tr>\n",
       "    <tr>\n",
       "      <th>mean</th>\n",
       "      <td>1.438276</td>\n",
       "      <td>3.382219</td>\n",
       "    </tr>\n",
       "    <tr>\n",
       "      <th>std</th>\n",
       "      <td>0.542509</td>\n",
       "      <td>2.658723</td>\n",
       "    </tr>\n",
       "    <tr>\n",
       "      <th>min</th>\n",
       "      <td>1.000000</td>\n",
       "      <td>0.800000</td>\n",
       "    </tr>\n",
       "    <tr>\n",
       "      <th>25%</th>\n",
       "      <td>1.000000</td>\n",
       "      <td>2.500000</td>\n",
       "    </tr>\n",
       "    <tr>\n",
       "      <th>50%</th>\n",
       "      <td>1.000000</td>\n",
       "      <td>3.000000</td>\n",
       "    </tr>\n",
       "    <tr>\n",
       "      <th>75%</th>\n",
       "      <td>2.000000</td>\n",
       "      <td>3.750000</td>\n",
       "    </tr>\n",
       "    <tr>\n",
       "      <th>max</th>\n",
       "      <td>8.000000</td>\n",
       "      <td>45.000000</td>\n",
       "    </tr>\n",
       "  </tbody>\n",
       "</table>\n",
       "</div>"
      ],
      "text/plain": [
       "       transaction_qty     unit_price\n",
       "count    149116.000000  149116.000000\n",
       "mean          1.438276       3.382219\n",
       "std           0.542509       2.658723\n",
       "min           1.000000       0.800000\n",
       "25%           1.000000       2.500000\n",
       "50%           1.000000       3.000000\n",
       "75%           2.000000       3.750000\n",
       "max           8.000000      45.000000"
      ]
     },
     "execution_count": 49,
     "metadata": {},
     "output_type": "execute_result"
    }
   ],
   "source": [
    "df[['transaction_qty', 'unit_price']].describe()"
   ]
  },
  {
   "cell_type": "code",
   "execution_count": 50,
   "id": "fca2543d-a5bf-4126-8e45-d26787150bee",
   "metadata": {},
   "outputs": [
    {
     "data": {
      "text/plain": [
       "0"
      ]
     },
     "execution_count": 50,
     "metadata": {},
     "output_type": "execute_result"
    }
   ],
   "source": [
    "(df['transaction_qty'] < 0).sum()\n",
    "(df['unit_price'] < 0).sum()"
   ]
  },
  {
   "cell_type": "code",
   "execution_count": 51,
   "id": "723ca5c2-e31c-49fd-b920-6cc0352d2249",
   "metadata": {},
   "outputs": [
    {
     "data": {
      "text/html": [
       "<div>\n",
       "<style scoped>\n",
       "    .dataframe tbody tr th:only-of-type {\n",
       "        vertical-align: middle;\n",
       "    }\n",
       "\n",
       "    .dataframe tbody tr th {\n",
       "        vertical-align: top;\n",
       "    }\n",
       "\n",
       "    .dataframe thead th {\n",
       "        text-align: right;\n",
       "    }\n",
       "</style>\n",
       "<table border=\"1\" class=\"dataframe\">\n",
       "  <thead>\n",
       "    <tr style=\"text-align: right;\">\n",
       "      <th></th>\n",
       "      <th>transaction_id</th>\n",
       "      <th>transaction_date</th>\n",
       "      <th>transaction_time</th>\n",
       "      <th>transaction_qty</th>\n",
       "      <th>store_id</th>\n",
       "      <th>store_location</th>\n",
       "      <th>product_id</th>\n",
       "      <th>unit_price</th>\n",
       "      <th>product_category</th>\n",
       "      <th>product_type</th>\n",
       "      <th>product_detail</th>\n",
       "      <th>hour</th>\n",
       "    </tr>\n",
       "  </thead>\n",
       "  <tbody>\n",
       "    <tr>\n",
       "      <th>3293</th>\n",
       "      <td>3323</td>\n",
       "      <td>2023-01-07</td>\n",
       "      <td>07:44:17</td>\n",
       "      <td>1</td>\n",
       "      <td>5</td>\n",
       "      <td>Lower Manhattan</td>\n",
       "      <td>6</td>\n",
       "      <td>21.0</td>\n",
       "      <td>Coffee beans</td>\n",
       "      <td>Gourmet Beans</td>\n",
       "      <td>Ethiopia</td>\n",
       "      <td>7</td>\n",
       "    </tr>\n",
       "    <tr>\n",
       "      <th>3296</th>\n",
       "      <td>3326</td>\n",
       "      <td>2023-01-07</td>\n",
       "      <td>07:45:15</td>\n",
       "      <td>1</td>\n",
       "      <td>5</td>\n",
       "      <td>Lower Manhattan</td>\n",
       "      <td>9</td>\n",
       "      <td>28.0</td>\n",
       "      <td>Coffee beans</td>\n",
       "      <td>Organic Beans</td>\n",
       "      <td>Organic Decaf Blend</td>\n",
       "      <td>7</td>\n",
       "    </tr>\n",
       "    <tr>\n",
       "      <th>3302</th>\n",
       "      <td>3332</td>\n",
       "      <td>2023-01-07</td>\n",
       "      <td>07:50:42</td>\n",
       "      <td>1</td>\n",
       "      <td>5</td>\n",
       "      <td>Lower Manhattan</td>\n",
       "      <td>9</td>\n",
       "      <td>28.0</td>\n",
       "      <td>Coffee beans</td>\n",
       "      <td>Organic Beans</td>\n",
       "      <td>Organic Decaf Blend</td>\n",
       "      <td>7</td>\n",
       "    </tr>\n",
       "    <tr>\n",
       "      <th>3408</th>\n",
       "      <td>3438</td>\n",
       "      <td>2023-01-07</td>\n",
       "      <td>09:05:19</td>\n",
       "      <td>1</td>\n",
       "      <td>5</td>\n",
       "      <td>Lower Manhattan</td>\n",
       "      <td>9</td>\n",
       "      <td>28.0</td>\n",
       "      <td>Coffee beans</td>\n",
       "      <td>Organic Beans</td>\n",
       "      <td>Organic Decaf Blend</td>\n",
       "      <td>9</td>\n",
       "    </tr>\n",
       "    <tr>\n",
       "      <th>3493</th>\n",
       "      <td>3523</td>\n",
       "      <td>2023-01-07</td>\n",
       "      <td>10:14:20</td>\n",
       "      <td>1</td>\n",
       "      <td>5</td>\n",
       "      <td>Lower Manhattan</td>\n",
       "      <td>6</td>\n",
       "      <td>21.0</td>\n",
       "      <td>Coffee beans</td>\n",
       "      <td>Gourmet Beans</td>\n",
       "      <td>Ethiopia</td>\n",
       "      <td>10</td>\n",
       "    </tr>\n",
       "    <tr>\n",
       "      <th>...</th>\n",
       "      <td>...</td>\n",
       "      <td>...</td>\n",
       "      <td>...</td>\n",
       "      <td>...</td>\n",
       "      <td>...</td>\n",
       "      <td>...</td>\n",
       "      <td>...</td>\n",
       "      <td>...</td>\n",
       "      <td>...</td>\n",
       "      <td>...</td>\n",
       "      <td>...</td>\n",
       "      <td>...</td>\n",
       "    </tr>\n",
       "    <tr>\n",
       "      <th>148246</th>\n",
       "      <td>148587</td>\n",
       "      <td>2023-06-30</td>\n",
       "      <td>08:23:47</td>\n",
       "      <td>1</td>\n",
       "      <td>8</td>\n",
       "      <td>Hell's Kitchen</td>\n",
       "      <td>6</td>\n",
       "      <td>21.0</td>\n",
       "      <td>Coffee beans</td>\n",
       "      <td>Gourmet Beans</td>\n",
       "      <td>Ethiopia</td>\n",
       "      <td>8</td>\n",
       "    </tr>\n",
       "    <tr>\n",
       "      <th>148363</th>\n",
       "      <td>148704</td>\n",
       "      <td>2023-06-30</td>\n",
       "      <td>09:11:01</td>\n",
       "      <td>1</td>\n",
       "      <td>5</td>\n",
       "      <td>Lower Manhattan</td>\n",
       "      <td>6</td>\n",
       "      <td>21.0</td>\n",
       "      <td>Coffee beans</td>\n",
       "      <td>Gourmet Beans</td>\n",
       "      <td>Ethiopia</td>\n",
       "      <td>9</td>\n",
       "    </tr>\n",
       "    <tr>\n",
       "      <th>148573</th>\n",
       "      <td>148914</td>\n",
       "      <td>2023-06-30</td>\n",
       "      <td>10:25:26</td>\n",
       "      <td>1</td>\n",
       "      <td>8</td>\n",
       "      <td>Hell's Kitchen</td>\n",
       "      <td>8</td>\n",
       "      <td>45.0</td>\n",
       "      <td>Coffee beans</td>\n",
       "      <td>Premium Beans</td>\n",
       "      <td>Civet Cat</td>\n",
       "      <td>10</td>\n",
       "    </tr>\n",
       "    <tr>\n",
       "      <th>148702</th>\n",
       "      <td>149043</td>\n",
       "      <td>2023-06-30</td>\n",
       "      <td>11:18:31</td>\n",
       "      <td>8</td>\n",
       "      <td>8</td>\n",
       "      <td>Hell's Kitchen</td>\n",
       "      <td>8</td>\n",
       "      <td>45.0</td>\n",
       "      <td>Coffee beans</td>\n",
       "      <td>Premium Beans</td>\n",
       "      <td>Civet Cat</td>\n",
       "      <td>11</td>\n",
       "    </tr>\n",
       "    <tr>\n",
       "      <th>148784</th>\n",
       "      <td>149125</td>\n",
       "      <td>2023-06-30</td>\n",
       "      <td>13:03:56</td>\n",
       "      <td>1</td>\n",
       "      <td>5</td>\n",
       "      <td>Lower Manhattan</td>\n",
       "      <td>8</td>\n",
       "      <td>45.0</td>\n",
       "      <td>Coffee beans</td>\n",
       "      <td>Premium Beans</td>\n",
       "      <td>Civet Cat</td>\n",
       "      <td>13</td>\n",
       "    </tr>\n",
       "  </tbody>\n",
       "</table>\n",
       "<p>994 rows × 12 columns</p>\n",
       "</div>"
      ],
      "text/plain": [
       "        transaction_id transaction_date transaction_time  transaction_qty  \\\n",
       "3293              3323       2023-01-07         07:44:17                1   \n",
       "3296              3326       2023-01-07         07:45:15                1   \n",
       "3302              3332       2023-01-07         07:50:42                1   \n",
       "3408              3438       2023-01-07         09:05:19                1   \n",
       "3493              3523       2023-01-07         10:14:20                1   \n",
       "...                ...              ...              ...              ...   \n",
       "148246          148587       2023-06-30         08:23:47                1   \n",
       "148363          148704       2023-06-30         09:11:01                1   \n",
       "148573          148914       2023-06-30         10:25:26                1   \n",
       "148702          149043       2023-06-30         11:18:31                8   \n",
       "148784          149125       2023-06-30         13:03:56                1   \n",
       "\n",
       "        store_id   store_location  product_id  unit_price product_category  \\\n",
       "3293           5  Lower Manhattan           6        21.0     Coffee beans   \n",
       "3296           5  Lower Manhattan           9        28.0     Coffee beans   \n",
       "3302           5  Lower Manhattan           9        28.0     Coffee beans   \n",
       "3408           5  Lower Manhattan           9        28.0     Coffee beans   \n",
       "3493           5  Lower Manhattan           6        21.0     Coffee beans   \n",
       "...          ...              ...         ...         ...              ...   \n",
       "148246         8   Hell's Kitchen           6        21.0     Coffee beans   \n",
       "148363         5  Lower Manhattan           6        21.0     Coffee beans   \n",
       "148573         8   Hell's Kitchen           8        45.0     Coffee beans   \n",
       "148702         8   Hell's Kitchen           8        45.0     Coffee beans   \n",
       "148784         5  Lower Manhattan           8        45.0     Coffee beans   \n",
       "\n",
       "         product_type       product_detail  hour  \n",
       "3293    Gourmet Beans             Ethiopia     7  \n",
       "3296    Organic Beans  Organic Decaf Blend     7  \n",
       "3302    Organic Beans  Organic Decaf Blend     7  \n",
       "3408    Organic Beans  Organic Decaf Blend     9  \n",
       "3493    Gourmet Beans             Ethiopia    10  \n",
       "...               ...                  ...   ...  \n",
       "148246  Gourmet Beans             Ethiopia     8  \n",
       "148363  Gourmet Beans             Ethiopia     9  \n",
       "148573  Premium Beans            Civet Cat    10  \n",
       "148702  Premium Beans            Civet Cat    11  \n",
       "148784  Premium Beans            Civet Cat    13  \n",
       "\n",
       "[994 rows x 12 columns]"
      ]
     },
     "execution_count": 51,
     "metadata": {},
     "output_type": "execute_result"
    }
   ],
   "source": [
    "df[df['transaction_qty'] > 5]  # Транзакции с более чем 5 товарами\n",
    "df[df['unit_price'] > 20]     # Товары дороже 20"
   ]
  },
  {
   "cell_type": "code",
   "execution_count": 52,
   "id": "637f1374-0ecb-4527-8e61-34b26cd94bda",
   "metadata": {},
   "outputs": [
    {
     "name": "stdout",
     "output_type": "stream",
     "text": [
      "   store_id   store_location\n",
      "0         5  Lower Manhattan\n",
      "1         8   Hell's Kitchen\n",
      "2         3          Astoria\n"
     ]
    }
   ],
   "source": [
    "stores = df[['store_id', 'store_location']].drop_duplicates().reset_index(drop=True)\n",
    "print(stores)"
   ]
  },
  {
   "cell_type": "code",
   "execution_count": 53,
   "id": "9f3684be-197f-49a1-bb01-3d1cd1f85b4e",
   "metadata": {},
   "outputs": [
    {
     "name": "stdout",
     "output_type": "stream",
     "text": [
      "   product_id    product_category           product_type  \\\n",
      "0          32              Coffee  Gourmet brewed coffee   \n",
      "1          57                 Tea        Brewed Chai tea   \n",
      "2          59  Drinking Chocolate          Hot chocolate   \n",
      "3          22              Coffee            Drip coffee   \n",
      "4          77              Bakery                  Scone   \n",
      "\n",
      "                product_detail  unit_price  \n",
      "0                  Ethiopia Rg         3.0  \n",
      "1     Spicy Eye Opener Chai Lg         3.1  \n",
      "2            Dark chocolate Lg         4.5  \n",
      "3  Our Old Time Diner Blend Sm         2.0  \n",
      "4                Oatmeal Scone         3.0  \n"
     ]
    }
   ],
   "source": [
    "products = df[['product_id', 'product_category', 'product_type', 'product_detail', 'unit_price']].drop_duplicates().reset_index(drop=True)\n",
    "print(products.head())"
   ]
  },
  {
   "cell_type": "code",
   "execution_count": 54,
   "id": "f60c0088-4c40-4332-a911-65a364cefbe3",
   "metadata": {},
   "outputs": [
    {
     "name": "stdout",
     "output_type": "stream",
     "text": [
      "   transaction_id transaction_date transaction_time  transaction_qty  \\\n",
      "0               1       2023-01-01         07:06:11                2   \n",
      "1               2       2023-01-01         07:08:56                2   \n",
      "2               3       2023-01-01         07:14:04                2   \n",
      "3               4       2023-01-01         07:20:24                1   \n",
      "4               5       2023-01-01         07:22:41                2   \n",
      "\n",
      "   store_id  product_id  \n",
      "0         5          32  \n",
      "1         5          57  \n",
      "2         5          59  \n",
      "3         5          22  \n",
      "4         5          57  \n"
     ]
    }
   ],
   "source": [
    "transactions = df[['transaction_id', 'transaction_date', 'transaction_time', 'transaction_qty', 'store_id', 'product_id']]\n",
    "print(transactions.head())"
   ]
  },
  {
   "cell_type": "code",
   "execution_count": 55,
   "id": "6e4d2f5e-c615-4815-bbb3-cadd1c11f7a8",
   "metadata": {},
   "outputs": [
    {
     "data": {
      "text/plain": [
       "product_category\n",
       "Coffee                58416\n",
       "Tea                   45449\n",
       "Bakery                22796\n",
       "Drinking Chocolate    11468\n",
       "Flavours               6790\n",
       "Coffee beans           1753\n",
       "Loose Tea              1210\n",
       "Branded                 747\n",
       "Packaged Chocolate      487\n",
       "Name: count, dtype: int64"
      ]
     },
     "execution_count": 55,
     "metadata": {},
     "output_type": "execute_result"
    }
   ],
   "source": [
    "df['product_category'].value_counts()"
   ]
  },
  {
   "cell_type": "code",
   "execution_count": 56,
   "id": "2837bd54-1c39-46e9-bad6-1d4c224014c3",
   "metadata": {},
   "outputs": [
    {
     "data": {
      "text/plain": [
       "hour\n",
       "6      4594\n",
       "7     13428\n",
       "8     17654\n",
       "9     17764\n",
       "10    18545\n",
       "11     9766\n",
       "12     8708\n",
       "13     8714\n",
       "14     8933\n",
       "15     8979\n",
       "16     9093\n",
       "17     8745\n",
       "18     7498\n",
       "19     6092\n",
       "20      603\n",
       "Name: count, dtype: int64"
      ]
     },
     "execution_count": 56,
     "metadata": {},
     "output_type": "execute_result"
    }
   ],
   "source": [
    "df['hour'].value_counts().sort_index()"
   ]
  },
  {
   "cell_type": "code",
   "execution_count": 59,
   "id": "6e89a053-b2d6-42ea-b1ab-c6efc5c3f138",
   "metadata": {},
   "outputs": [
    {
     "data": {
      "text/plain": [
       "store_location\n",
       "Astoria            4.589891\n",
       "Hell's Kitchen     4.661696\n",
       "Lower Manhattan    4.814726\n",
       "Name: total_amount, dtype: float64"
      ]
     },
     "execution_count": 59,
     "metadata": {},
     "output_type": "execute_result"
    }
   ],
   "source": [
    "df['total_amount'] = df['transaction_qty'] * df['unit_price']\n",
    "df.groupby('store_location')['total_amount'].mean()"
   ]
  },
  {
   "cell_type": "code",
   "execution_count": 64,
   "id": "755a630a-ffb6-4356-a183-e7dd01d111f5",
   "metadata": {},
   "outputs": [
    {
     "data": {
      "image/png": "[encoded data removed]",
      "text/plain": [
       "<Figure size 1000x600 with 1 Axes>"
      ]
     },
     "metadata": {},
     "output_type": "display_data"
    }
   ],
   "source": [
    "category_counts = df['product_category'].value_counts()\n",
    "plt.figure(figsize=(10, 6))\n",
    "category_counts.plot(kind='bar')\n",
    "plt.title('Распределение продаж по категориям')\n",
    "plt.xlabel('Категория')\n",
    "plt.ylabel('Количество транзакций')\n",
    "plt.xticks(rotation=45)\n",
    "plt.tight_layout()\n",
    "plt.show()"
   ]
  },
  {
   "cell_type": "code",
   "execution_count": 78,
   "id": "0e4148f4-1654-4635-97ed-88d4faa31046",
   "metadata": {},
   "outputs": [
    {
     "data": {
      "image/png": "[encoded data removed]",
      "text/plain": [
       "<Figure size 1000x600 with 1 Axes>"
      ]
     },
     "metadata": {},
     "output_type": "display_data"
    }
   ],
   "source": [
    "hour_counts = df['hour'].value_counts().sort_index()\n",
    "plt.figure(figsize=(10, 6))\n",
    "hour_counts.plot(kind='bar')\n",
    "plt.title('Распределение продаж по часам')\n",
    "plt.xlabel('Час')\n",
    "plt.ylabel('Количество транзакций')\n",
    "plt.xticks(rotation=0)\n",
    "plt.tight_layout()\n",
    "plt.show()"
   ]
  },
  {
   "cell_type": "code",
   "execution_count": 81,
   "id": "5cf71b8e-bcee-46ab-a34e-a1aa6e2a1deb",
   "metadata": {},
   "outputs": [
    {
     "data": {
      "image/png": "[encoded data removed]",
      "text/plain": [
       "<Figure size 1000x600 with 1 Axes>"
      ]
     },
     "metadata": {},
     "output_type": "display_data"
    }
   ],
   "source": [
    "df['total_amount'] = df['transaction_qty'] * df['unit_price']\n",
    "store_avg = df.groupby('store_location')['total_amount'].mean()\n",
    "plt.figure(figsize=(10, 6))\n",
    "store_avg.plot(kind='bar')\n",
    "plt.title('Средний чек по магазинам')\n",
    "plt.xlabel('Магазин')\n",
    "plt.ylabel('Средняя сумма')\n",
    "plt.xticks(rotation=45)\n",
    "plt.tight_layout()\n",
    "plt.show()"
   ]
  },
  {
   "cell_type": "code",
   "execution_count": null,
   "id": "7b05beb1-354e-4886-a405-b97b0fc16c48",
   "metadata": {},
   "outputs": [],
   "source": [
    "### Итоги анализа:\n",
    "\n",
    "**Очистка данных:**\n",
    "- Пропуски: Проверено с помощью `df.isnull().sum()` — пропусков нет.\n",
    "- Дубликаты: Проверено с помощью `df.duplicated().sum()` — дубликатов нет.\n",
    "- Аномалии: Анализ `transaction_qty` (1–8) и `unit_price` (0.8–45) показал, что данные в пределах нормы.\n",
    "\n",
    "**Оптимизация хранения:**\n",
    "- Данные разделены на таблицы:\n",
    "  - `stores`: Уникальные магазины (`store_id`, `store_location`).\n",
    "  - `products`: Уникальные продукты (`product_id`, `product_category`, `product_type`, `product_detail`, `unit_price`).\n",
    "  - `transactions`: Транзакции (`transaction_id`, `transaction_date`, `transaction_time`, `transaction_qty`, `store_id`, `product_id`).\n",
    "\n",
    "**Гипотезы и визуализация:**\n",
    "- Самая популярная категория — Coffee (~58%), подтверждено графиком распределения продаж по категориям. Рекомендация: расширить ассортимент кофе.\n",
    "- Пиковые часы продаж — 7–11 утра, подтверждено графиком продаж по часам. Рекомендация: запустить утренние акции.\n",
    "- Средний чек по магазинам стабилен (~4.7), но можно изучить, где продаются дорогие товары (график среднего чека).\n",
    "\n",
    "**Вывод:**\n",
    "Данные очищены, оптимизированы и проанализированы. Визуализация подтверждает гипотезы, которые могут быть использованы для улучшения бизнеса кофейни."
   ]
  }
 ],
 "metadata": {
  "kernelspec": {
   "display_name": "Python [conda env:base] *",
   "language": "python",
   "name": "conda-base-py"
  },
  "language_info": {
   "codemirror_mode": {
    "name": "ipython",
    "version": 3
   },
   "file_extension": ".py",
   "mimetype": "text/x-python",
   "name": "python",
   "nbconvert_exporter": "python",
   "pygments_lexer": "ipython3",
   "version": "3.12.7"
  }
 },
 "nbformat": 4,
 "nbformat_minor": 5
}
